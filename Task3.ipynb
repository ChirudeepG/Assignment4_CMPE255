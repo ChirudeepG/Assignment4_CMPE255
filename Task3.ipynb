{
  "metadata": {
    "kernelspec": {
      "language": "python",
      "display_name": "Python 3",
      "name": "python3"
    },
    "language_info": {
      "name": "python",
      "version": "3.7.12",
      "mimetype": "text/x-python",
      "codemirror_mode": {
        "name": "ipython",
        "version": 3
      },
      "pygments_lexer": "ipython3",
      "nbconvert_exporter": "python",
      "file_extension": ".py"
    },
    "colab": {
      "provenance": [],
      "include_colab_link": true
    }
  },
  "nbformat_minor": 0,
  "nbformat": 4,
  "cells": [
    {
      "cell_type": "markdown",
      "metadata": {
        "id": "view-in-github",
        "colab_type": "text"
      },
      "source": [
        "<a href=\"https://colab.research.google.com/github/ChirudeepG/Assignment4_CMPE255/blob/main/Task3.ipynb\" target=\"_parent\"><img src=\"https://colab.research.google.com/assets/colab-badge.svg\" alt=\"Open In Colab\"/></a>"
      ]
    },
    {
      "cell_type": "code",
      "source": [
        "# Import Pandas and Matplotlib\n",
        "import pandas as pd\n",
        "import matplotlib.pyplot as plt\n",
        "\n",
        "# Import Label Encoder and train_test_split\n",
        "from sklearn.preprocessing import LabelEncoder\n",
        "from sklearn.model_selection import train_test_split\n",
        "\n",
        "# Import Logistic Regression, Ridge Classifier, Decision Tree\n",
        "# Gaussian Naive Bayes, MLP Classifier and Random Forest models\n",
        "from sklearn.linear_model import LogisticRegression,RidgeClassifier\n",
        "from sklearn.tree import DecisionTreeClassifier\n",
        "from sklearn.naive_bayes import GaussianNB\n",
        "from sklearn.neural_network import MLPClassifier\n",
        "from sklearn.ensemble import RandomForestClassifier\n",
        "\n",
        "# Import Classification Report function\n",
        "from sklearn.metrics import classification_report"
      ],
      "metadata": {
        "execution": {
          "iopub.status.busy": "2022-10-23T20:25:55.298148Z",
          "iopub.execute_input": "2022-10-23T20:25:55.299258Z",
          "iopub.status.idle": "2022-10-23T20:25:56.678948Z",
          "shell.execute_reply.started": "2022-10-23T20:25:55.299142Z",
          "shell.execute_reply": "2022-10-23T20:25:56.677690Z"
        },
        "trusted": true,
        "id": "4CB1BqBJGriI"
      },
      "execution_count": null,
      "outputs": []
    },
    {
      "cell_type": "markdown",
      "source": [
        "## Dataset and preprocessing"
      ],
      "metadata": {
        "id": "E3whOopAGriJ"
      }
    },
    {
      "cell_type": "markdown",
      "source": [
        "The dataset includes data from 8124 mushrooms. Each of  these mushroom samples have 22 features and they are categorized as edible or poisonous."
      ],
      "metadata": {
        "id": "Ua9_2R3OGriJ"
      }
    },
    {
      "cell_type": "code",
      "source": [
        "# Read the \"mushrooms.csv\" file\n",
        "data = pd.read_csv(\"/content/mushrooms.csv\")"
      ],
      "metadata": {
        "execution": {
          "iopub.status.busy": "2022-10-23T20:30:10.300742Z",
          "iopub.execute_input": "2022-10-23T20:30:10.301148Z",
          "iopub.status.idle": "2022-10-23T20:30:10.357157Z",
          "shell.execute_reply.started": "2022-10-23T20:30:10.301116Z",
          "shell.execute_reply": "2022-10-23T20:30:10.355940Z"
        },
        "trusted": true,
        "id": "he7rMN0DGriK"
      },
      "execution_count": null,
      "outputs": []
    },
    {
      "cell_type": "markdown",
      "source": [
        "### Visualize the data\n",
        "Then, take a look at the dataset using *data.head()* function."
      ],
      "metadata": {
        "id": "jRKKlb-gGriK"
      }
    },
    {
      "cell_type": "code",
      "source": [
        "# Use the head() function to display the first 5 rows of the data\n",
        "data.head()"
      ],
      "metadata": {
        "execution": {
          "iopub.status.busy": "2022-10-23T20:30:47.559312Z",
          "iopub.execute_input": "2022-10-23T20:30:47.559763Z",
          "iopub.status.idle": "2022-10-23T20:30:47.596616Z",
          "shell.execute_reply.started": "2022-10-23T20:30:47.559726Z",
          "shell.execute_reply": "2022-10-23T20:30:47.595742Z"
        },
        "trusted": true,
        "colab": {
          "base_uri": "https://localhost:8080/",
          "height": 352
        },
        "id": "puR1ADnrGriK",
        "outputId": "3c0626ca-e797-411f-a587-2551e25839f9"
      },
      "execution_count": null,
      "outputs": [
        {
          "output_type": "execute_result",
          "data": {
            "text/plain": [
              "  class cap-shape cap-surface cap-color bruises odor gill-attachment  \\\n",
              "0     p         x           s         n       t    p               f   \n",
              "1     e         x           s         y       t    a               f   \n",
              "2     e         b           s         w       t    l               f   \n",
              "3     p         x           y         w       t    p               f   \n",
              "4     e         x           s         g       f    n               f   \n",
              "\n",
              "  gill-spacing gill-size gill-color  ... stalk-surface-below-ring  \\\n",
              "0            c         n          k  ...                        s   \n",
              "1            c         b          k  ...                        s   \n",
              "2            c         b          n  ...                        s   \n",
              "3            c         n          n  ...                        s   \n",
              "4            w         b          k  ...                        s   \n",
              "\n",
              "  stalk-color-above-ring stalk-color-below-ring veil-type veil-color  \\\n",
              "0                      w                      w         p          w   \n",
              "1                      w                      w         p          w   \n",
              "2                      w                      w         p          w   \n",
              "3                      w                      w         p          w   \n",
              "4                      w                      w         p          w   \n",
              "\n",
              "  ring-number ring-type spore-print-color population habitat  \n",
              "0           o         p                 k          s       u  \n",
              "1           o         p                 n          n       g  \n",
              "2           o         p                 n          n       m  \n",
              "3           o         p                 k          s       u  \n",
              "4           o         e                 n          a       g  \n",
              "\n",
              "[5 rows x 23 columns]"
            ],
            "text/html": [
              "\n",
              "  <div id=\"df-dbf61aac-b61d-443b-93c1-0b0d6dbb0551\">\n",
              "    <div class=\"colab-df-container\">\n",
              "      <div>\n",
              "<style scoped>\n",
              "    .dataframe tbody tr th:only-of-type {\n",
              "        vertical-align: middle;\n",
              "    }\n",
              "\n",
              "    .dataframe tbody tr th {\n",
              "        vertical-align: top;\n",
              "    }\n",
              "\n",
              "    .dataframe thead th {\n",
              "        text-align: right;\n",
              "    }\n",
              "</style>\n",
              "<table border=\"1\" class=\"dataframe\">\n",
              "  <thead>\n",
              "    <tr style=\"text-align: right;\">\n",
              "      <th></th>\n",
              "      <th>class</th>\n",
              "      <th>cap-shape</th>\n",
              "      <th>cap-surface</th>\n",
              "      <th>cap-color</th>\n",
              "      <th>bruises</th>\n",
              "      <th>odor</th>\n",
              "      <th>gill-attachment</th>\n",
              "      <th>gill-spacing</th>\n",
              "      <th>gill-size</th>\n",
              "      <th>gill-color</th>\n",
              "      <th>...</th>\n",
              "      <th>stalk-surface-below-ring</th>\n",
              "      <th>stalk-color-above-ring</th>\n",
              "      <th>stalk-color-below-ring</th>\n",
              "      <th>veil-type</th>\n",
              "      <th>veil-color</th>\n",
              "      <th>ring-number</th>\n",
              "      <th>ring-type</th>\n",
              "      <th>spore-print-color</th>\n",
              "      <th>population</th>\n",
              "      <th>habitat</th>\n",
              "    </tr>\n",
              "  </thead>\n",
              "  <tbody>\n",
              "    <tr>\n",
              "      <th>0</th>\n",
              "      <td>p</td>\n",
              "      <td>x</td>\n",
              "      <td>s</td>\n",
              "      <td>n</td>\n",
              "      <td>t</td>\n",
              "      <td>p</td>\n",
              "      <td>f</td>\n",
              "      <td>c</td>\n",
              "      <td>n</td>\n",
              "      <td>k</td>\n",
              "      <td>...</td>\n",
              "      <td>s</td>\n",
              "      <td>w</td>\n",
              "      <td>w</td>\n",
              "      <td>p</td>\n",
              "      <td>w</td>\n",
              "      <td>o</td>\n",
              "      <td>p</td>\n",
              "      <td>k</td>\n",
              "      <td>s</td>\n",
              "      <td>u</td>\n",
              "    </tr>\n",
              "    <tr>\n",
              "      <th>1</th>\n",
              "      <td>e</td>\n",
              "      <td>x</td>\n",
              "      <td>s</td>\n",
              "      <td>y</td>\n",
              "      <td>t</td>\n",
              "      <td>a</td>\n",
              "      <td>f</td>\n",
              "      <td>c</td>\n",
              "      <td>b</td>\n",
              "      <td>k</td>\n",
              "      <td>...</td>\n",
              "      <td>s</td>\n",
              "      <td>w</td>\n",
              "      <td>w</td>\n",
              "      <td>p</td>\n",
              "      <td>w</td>\n",
              "      <td>o</td>\n",
              "      <td>p</td>\n",
              "      <td>n</td>\n",
              "      <td>n</td>\n",
              "      <td>g</td>\n",
              "    </tr>\n",
              "    <tr>\n",
              "      <th>2</th>\n",
              "      <td>e</td>\n",
              "      <td>b</td>\n",
              "      <td>s</td>\n",
              "      <td>w</td>\n",
              "      <td>t</td>\n",
              "      <td>l</td>\n",
              "      <td>f</td>\n",
              "      <td>c</td>\n",
              "      <td>b</td>\n",
              "      <td>n</td>\n",
              "      <td>...</td>\n",
              "      <td>s</td>\n",
              "      <td>w</td>\n",
              "      <td>w</td>\n",
              "      <td>p</td>\n",
              "      <td>w</td>\n",
              "      <td>o</td>\n",
              "      <td>p</td>\n",
              "      <td>n</td>\n",
              "      <td>n</td>\n",
              "      <td>m</td>\n",
              "    </tr>\n",
              "    <tr>\n",
              "      <th>3</th>\n",
              "      <td>p</td>\n",
              "      <td>x</td>\n",
              "      <td>y</td>\n",
              "      <td>w</td>\n",
              "      <td>t</td>\n",
              "      <td>p</td>\n",
              "      <td>f</td>\n",
              "      <td>c</td>\n",
              "      <td>n</td>\n",
              "      <td>n</td>\n",
              "      <td>...</td>\n",
              "      <td>s</td>\n",
              "      <td>w</td>\n",
              "      <td>w</td>\n",
              "      <td>p</td>\n",
              "      <td>w</td>\n",
              "      <td>o</td>\n",
              "      <td>p</td>\n",
              "      <td>k</td>\n",
              "      <td>s</td>\n",
              "      <td>u</td>\n",
              "    </tr>\n",
              "    <tr>\n",
              "      <th>4</th>\n",
              "      <td>e</td>\n",
              "      <td>x</td>\n",
              "      <td>s</td>\n",
              "      <td>g</td>\n",
              "      <td>f</td>\n",
              "      <td>n</td>\n",
              "      <td>f</td>\n",
              "      <td>w</td>\n",
              "      <td>b</td>\n",
              "      <td>k</td>\n",
              "      <td>...</td>\n",
              "      <td>s</td>\n",
              "      <td>w</td>\n",
              "      <td>w</td>\n",
              "      <td>p</td>\n",
              "      <td>w</td>\n",
              "      <td>o</td>\n",
              "      <td>e</td>\n",
              "      <td>n</td>\n",
              "      <td>a</td>\n",
              "      <td>g</td>\n",
              "    </tr>\n",
              "  </tbody>\n",
              "</table>\n",
              "<p>5 rows × 23 columns</p>\n",
              "</div>\n",
              "      <button class=\"colab-df-convert\" onclick=\"convertToInteractive('df-dbf61aac-b61d-443b-93c1-0b0d6dbb0551')\"\n",
              "              title=\"Convert this dataframe to an interactive table.\"\n",
              "              style=\"display:none;\">\n",
              "        \n",
              "  <svg xmlns=\"http://www.w3.org/2000/svg\" height=\"24px\"viewBox=\"0 0 24 24\"\n",
              "       width=\"24px\">\n",
              "    <path d=\"M0 0h24v24H0V0z\" fill=\"none\"/>\n",
              "    <path d=\"M18.56 5.44l.94 2.06.94-2.06 2.06-.94-2.06-.94-.94-2.06-.94 2.06-2.06.94zm-11 1L8.5 8.5l.94-2.06 2.06-.94-2.06-.94L8.5 2.5l-.94 2.06-2.06.94zm10 10l.94 2.06.94-2.06 2.06-.94-2.06-.94-.94-2.06-.94 2.06-2.06.94z\"/><path d=\"M17.41 7.96l-1.37-1.37c-.4-.4-.92-.59-1.43-.59-.52 0-1.04.2-1.43.59L10.3 9.45l-7.72 7.72c-.78.78-.78 2.05 0 2.83L4 21.41c.39.39.9.59 1.41.59.51 0 1.02-.2 1.41-.59l7.78-7.78 2.81-2.81c.8-.78.8-2.07 0-2.86zM5.41 20L4 18.59l7.72-7.72 1.47 1.35L5.41 20z\"/>\n",
              "  </svg>\n",
              "      </button>\n",
              "      \n",
              "  <style>\n",
              "    .colab-df-container {\n",
              "      display:flex;\n",
              "      flex-wrap:wrap;\n",
              "      gap: 12px;\n",
              "    }\n",
              "\n",
              "    .colab-df-convert {\n",
              "      background-color: #E8F0FE;\n",
              "      border: none;\n",
              "      border-radius: 50%;\n",
              "      cursor: pointer;\n",
              "      display: none;\n",
              "      fill: #1967D2;\n",
              "      height: 32px;\n",
              "      padding: 0 0 0 0;\n",
              "      width: 32px;\n",
              "    }\n",
              "\n",
              "    .colab-df-convert:hover {\n",
              "      background-color: #E2EBFA;\n",
              "      box-shadow: 0px 1px 2px rgba(60, 64, 67, 0.3), 0px 1px 3px 1px rgba(60, 64, 67, 0.15);\n",
              "      fill: #174EA6;\n",
              "    }\n",
              "\n",
              "    [theme=dark] .colab-df-convert {\n",
              "      background-color: #3B4455;\n",
              "      fill: #D2E3FC;\n",
              "    }\n",
              "\n",
              "    [theme=dark] .colab-df-convert:hover {\n",
              "      background-color: #434B5C;\n",
              "      box-shadow: 0px 1px 3px 1px rgba(0, 0, 0, 0.15);\n",
              "      filter: drop-shadow(0px 1px 2px rgba(0, 0, 0, 0.3));\n",
              "      fill: #FFFFFF;\n",
              "    }\n",
              "  </style>\n",
              "\n",
              "      <script>\n",
              "        const buttonEl =\n",
              "          document.querySelector('#df-dbf61aac-b61d-443b-93c1-0b0d6dbb0551 button.colab-df-convert');\n",
              "        buttonEl.style.display =\n",
              "          google.colab.kernel.accessAllowed ? 'block' : 'none';\n",
              "\n",
              "        async function convertToInteractive(key) {\n",
              "          const element = document.querySelector('#df-dbf61aac-b61d-443b-93c1-0b0d6dbb0551');\n",
              "          const dataTable =\n",
              "            await google.colab.kernel.invokeFunction('convertToInteractive',\n",
              "                                                     [key], {});\n",
              "          if (!dataTable) return;\n",
              "\n",
              "          const docLinkHtml = 'Like what you see? Visit the ' +\n",
              "            '<a target=\"_blank\" href=https://colab.research.google.com/notebooks/data_table.ipynb>data table notebook</a>'\n",
              "            + ' to learn more about interactive tables.';\n",
              "          element.innerHTML = '';\n",
              "          dataTable['output_type'] = 'display_data';\n",
              "          await google.colab.output.renderOutput(dataTable, element);\n",
              "          const docLink = document.createElement('div');\n",
              "          docLink.innerHTML = docLinkHtml;\n",
              "          element.appendChild(docLink);\n",
              "        }\n",
              "      </script>\n",
              "    </div>\n",
              "  </div>\n",
              "  "
            ]
          },
          "metadata": {},
          "execution_count": 4
        }
      ]
    },
    {
      "cell_type": "markdown",
      "source": [
        "Now, to have a better understanding of the dataset, we can utilize some visualization techniques. For example, by creating a bar graph, we can compare the different classes.\n",
        "\n",
        "We’ll start with finding the number of samples per class.\n",
        "\n",
        "Use the value_counts() method."
      ],
      "metadata": {
        "id": "DjldcCkJGriL"
      }
    },
    {
      "cell_type": "code",
      "source": [
        "# Use value_counts method on \"class\" column of data object\n",
        "classes = data[\"class\"].value_counts()\n",
        "\n",
        "# Print the result\n",
        "classes"
      ],
      "metadata": {
        "execution": {
          "iopub.status.busy": "2022-10-23T20:31:18.440885Z",
          "iopub.execute_input": "2022-10-23T20:31:18.441483Z",
          "iopub.status.idle": "2022-10-23T20:31:18.461993Z",
          "shell.execute_reply.started": "2022-10-23T20:31:18.441412Z",
          "shell.execute_reply": "2022-10-23T20:31:18.460318Z"
        },
        "trusted": true,
        "colab": {
          "base_uri": "https://localhost:8080/"
        },
        "id": "PmadpyjlGriL",
        "outputId": "e30aaa91-158c-4afa-cc10-1f6d982b7af5"
      },
      "execution_count": null,
      "outputs": [
        {
          "output_type": "execute_result",
          "data": {
            "text/plain": [
              "e    4208\n",
              "p    3916\n",
              "Name: class, dtype: int64"
            ]
          },
          "metadata": {},
          "execution_count": 5
        }
      ]
    },
    {
      "cell_type": "markdown",
      "source": [
        "With this information, we can create bars for each class and display the graph.\n",
        "\n",
        "Use the .bar() method to create the graph.\n",
        "\n",
        "Don't forget to use plt.show().# Add the bar for edible class"
      ],
      "metadata": {
        "id": "SumQ9CZOGriL"
      }
    },
    {
      "cell_type": "code",
      "source": [
        "# Add the bar for edible class\n",
        "plt.bar('Edible',classes['e'])\n",
        "\n",
        "# Add the bar for poisonous class\n",
        "plt.bar('Poisonous',classes['p'])\n",
        "\n",
        "# Print the plot\n",
        "plt.show()"
      ],
      "metadata": {
        "execution": {
          "iopub.status.busy": "2022-10-23T20:32:12.122964Z",
          "iopub.execute_input": "2022-10-23T20:32:12.123414Z",
          "iopub.status.idle": "2022-10-23T20:32:12.308039Z",
          "shell.execute_reply.started": "2022-10-23T20:32:12.123379Z",
          "shell.execute_reply": "2022-10-23T20:32:12.307120Z"
        },
        "trusted": true,
        "colab": {
          "base_uri": "https://localhost:8080/",
          "height": 265
        },
        "id": "D73HEaR5GriM",
        "outputId": "e8cfd27f-2aaf-46d8-a6c1-b954f3e6ec6a"
      },
      "execution_count": null,
      "outputs": [
        {
          "output_type": "display_data",
          "data": {
            "text/plain": [
              "<Figure size 432x288 with 1 Axes>"
            ],
            "image/png": "[encoded data removed]"
          },
          "metadata": {
            "needs_background": "light"
          }
        }
      ]
    },
    {
      "cell_type": "markdown",
      "source": [
        "### Features and labels\n",
        "Great, we have a better understanding of our data. Now we’ll divide it into features and corresponding labels. \n",
        "\n",
        "In our case we’ll use the columns “cap-shape”, “cap-color”, “ring-number” and “ring-type” as features.\n",
        "\n",
        "Use the .loc() method to create X and y datasets."
      ],
      "metadata": {
        "id": "wCt9B-z7GriM"
      }
    },
    {
      "cell_type": "code",
      "source": [
        "# Create the X variable for features\n",
        "X = data.loc[:,[\"cap-shape\", \"cap-color\", \"ring-number\", \"ring-type\"]]\n",
        "\n",
        "# Create the y variable for output labels\n",
        "y = data.loc[:,\"class\"]"
      ],
      "metadata": {
        "execution": {
          "iopub.status.busy": "2022-10-23T20:33:32.331027Z",
          "iopub.execute_input": "2022-10-23T20:33:32.331456Z",
          "iopub.status.idle": "2022-10-23T20:33:32.338529Z",
          "shell.execute_reply.started": "2022-10-23T20:33:32.331420Z",
          "shell.execute_reply": "2022-10-23T20:33:32.337558Z"
        },
        "trusted": true,
        "id": "lZi44LxsGriM"
      },
      "execution_count": null,
      "outputs": []
    },
    {
      "cell_type": "markdown",
      "source": [
        "### Converting the values \n",
        "\n",
        "The values are in string format. We need to convert them to integer values to be able to perform mathematical operations with them. We’ll use label encoding for this.\n",
        "\n",
        "Since the X-data has multiple columns, do this in a for loop so that you can update all columns at once.\n",
        "\n",
        "For the y data, use the encoder directly."
      ],
      "metadata": {
        "id": "veHp8sFmGriM"
      }
    },
    {
      "cell_type": "code",
      "source": [
        "# Create an LabelEncoder object\n",
        "encoder = LabelEncoder()\n",
        "\n",
        "# Encode the features to integers inside a for loop\n",
        "for i in X.columns:\n",
        "  X[i] = encoder.fit_transform(X[i])\n",
        "\n",
        "# Encode the ouput labels to integers\n",
        "y = encoder.fit_transform(y)"
      ],
      "metadata": {
        "execution": {
          "iopub.status.busy": "2022-10-23T20:33:50.015849Z",
          "iopub.execute_input": "2022-10-23T20:33:50.016355Z",
          "iopub.status.idle": "2022-10-23T20:33:50.027394Z",
          "shell.execute_reply.started": "2022-10-23T20:33:50.016311Z",
          "shell.execute_reply": "2022-10-23T20:33:50.026394Z"
        },
        "trusted": true,
        "id": "CuXtIxcIGriN"
      },
      "execution_count": null,
      "outputs": []
    },
    {
      "cell_type": "markdown",
      "source": [
        "Let’s print both X and y to see the final data."
      ],
      "metadata": {
        "id": "oLHx35nUGriN"
      }
    },
    {
      "cell_type": "code",
      "source": [
        "#Print X\n",
        "X"
      ],
      "metadata": {
        "execution": {
          "iopub.status.busy": "2022-10-23T20:34:20.830296Z",
          "iopub.execute_input": "2022-10-23T20:34:20.830758Z",
          "iopub.status.idle": "2022-10-23T20:34:20.849791Z",
          "shell.execute_reply.started": "2022-10-23T20:34:20.830716Z",
          "shell.execute_reply": "2022-10-23T20:34:20.847313Z"
        },
        "trusted": true,
        "colab": {
          "base_uri": "https://localhost:8080/",
          "height": 424
        },
        "id": "_3LZgcNXGriN",
        "outputId": "33d34c5a-3e69-4c1d-890a-cdb0bd69b48d"
      },
      "execution_count": null,
      "outputs": [
        {
          "output_type": "execute_result",
          "data": {
            "text/plain": [
              "      cap-shape  cap-color  ring-number  ring-type\n",
              "0             5          4            1          4\n",
              "1             5          9            1          4\n",
              "2             0          8            1          4\n",
              "3             5          8            1          4\n",
              "4             5          3            1          0\n",
              "...         ...        ...          ...        ...\n",
              "8119          3          4            1          4\n",
              "8120          5          4            1          4\n",
              "8121          2          4            1          4\n",
              "8122          3          4            1          0\n",
              "8123          5          4            1          4\n",
              "\n",
              "[8124 rows x 4 columns]"
            ],
            "text/html": [
              "\n",
              "  <div id=\"df-4a2df764-6a1d-493e-8422-c8973246cbf9\">\n",
              "    <div class=\"colab-df-container\">\n",
              "      <div>\n",
              "<style scoped>\n",
              "    .dataframe tbody tr th:only-of-type {\n",
              "        vertical-align: middle;\n",
              "    }\n",
              "\n",
              "    .dataframe tbody tr th {\n",
              "        vertical-align: top;\n",
              "    }\n",
              "\n",
              "    .dataframe thead th {\n",
              "        text-align: right;\n",
              "    }\n",
              "</style>\n",
              "<table border=\"1\" class=\"dataframe\">\n",
              "  <thead>\n",
              "    <tr style=\"text-align: right;\">\n",
              "      <th></th>\n",
              "      <th>cap-shape</th>\n",
              "      <th>cap-color</th>\n",
              "      <th>ring-number</th>\n",
              "      <th>ring-type</th>\n",
              "    </tr>\n",
              "  </thead>\n",
              "  <tbody>\n",
              "    <tr>\n",
              "      <th>0</th>\n",
              "      <td>5</td>\n",
              "      <td>4</td>\n",
              "      <td>1</td>\n",
              "      <td>4</td>\n",
              "    </tr>\n",
              "    <tr>\n",
              "      <th>1</th>\n",
              "      <td>5</td>\n",
              "      <td>9</td>\n",
              "      <td>1</td>\n",
              "      <td>4</td>\n",
              "    </tr>\n",
              "    <tr>\n",
              "      <th>2</th>\n",
              "      <td>0</td>\n",
              "      <td>8</td>\n",
              "      <td>1</td>\n",
              "      <td>4</td>\n",
              "    </tr>\n",
              "    <tr>\n",
              "      <th>3</th>\n",
              "      <td>5</td>\n",
              "      <td>8</td>\n",
              "      <td>1</td>\n",
              "      <td>4</td>\n",
              "    </tr>\n",
              "    <tr>\n",
              "      <th>4</th>\n",
              "      <td>5</td>\n",
              "      <td>3</td>\n",
              "      <td>1</td>\n",
              "      <td>0</td>\n",
              "    </tr>\n",
              "    <tr>\n",
              "      <th>...</th>\n",
              "      <td>...</td>\n",
              "      <td>...</td>\n",
              "      <td>...</td>\n",
              "      <td>...</td>\n",
              "    </tr>\n",
              "    <tr>\n",
              "      <th>8119</th>\n",
              "      <td>3</td>\n",
              "      <td>4</td>\n",
              "      <td>1</td>\n",
              "      <td>4</td>\n",
              "    </tr>\n",
              "    <tr>\n",
              "      <th>8120</th>\n",
              "      <td>5</td>\n",
              "      <td>4</td>\n",
              "      <td>1</td>\n",
              "      <td>4</td>\n",
              "    </tr>\n",
              "    <tr>\n",
              "      <th>8121</th>\n",
              "      <td>2</td>\n",
              "      <td>4</td>\n",
              "      <td>1</td>\n",
              "      <td>4</td>\n",
              "    </tr>\n",
              "    <tr>\n",
              "      <th>8122</th>\n",
              "      <td>3</td>\n",
              "      <td>4</td>\n",
              "      <td>1</td>\n",
              "      <td>0</td>\n",
              "    </tr>\n",
              "    <tr>\n",
              "      <th>8123</th>\n",
              "      <td>5</td>\n",
              "      <td>4</td>\n",
              "      <td>1</td>\n",
              "      <td>4</td>\n",
              "    </tr>\n",
              "  </tbody>\n",
              "</table>\n",
              "<p>8124 rows × 4 columns</p>\n",
              "</div>\n",
              "      <button class=\"colab-df-convert\" onclick=\"convertToInteractive('df-4a2df764-6a1d-493e-8422-c8973246cbf9')\"\n",
              "              title=\"Convert this dataframe to an interactive table.\"\n",
              "              style=\"display:none;\">\n",
              "        \n",
              "  <svg xmlns=\"http://www.w3.org/2000/svg\" height=\"24px\"viewBox=\"0 0 24 24\"\n",
              "       width=\"24px\">\n",
              "    <path d=\"M0 0h24v24H0V0z\" fill=\"none\"/>\n",
              "    <path d=\"M18.56 5.44l.94 2.06.94-2.06 2.06-.94-2.06-.94-.94-2.06-.94 2.06-2.06.94zm-11 1L8.5 8.5l.94-2.06 2.06-.94-2.06-.94L8.5 2.5l-.94 2.06-2.06.94zm10 10l.94 2.06.94-2.06 2.06-.94-2.06-.94-.94-2.06-.94 2.06-2.06.94z\"/><path d=\"M17.41 7.96l-1.37-1.37c-.4-.4-.92-.59-1.43-.59-.52 0-1.04.2-1.43.59L10.3 9.45l-7.72 7.72c-.78.78-.78 2.05 0 2.83L4 21.41c.39.39.9.59 1.41.59.51 0 1.02-.2 1.41-.59l7.78-7.78 2.81-2.81c.8-.78.8-2.07 0-2.86zM5.41 20L4 18.59l7.72-7.72 1.47 1.35L5.41 20z\"/>\n",
              "  </svg>\n",
              "      </button>\n",
              "      \n",
              "  <style>\n",
              "    .colab-df-container {\n",
              "      display:flex;\n",
              "      flex-wrap:wrap;\n",
              "      gap: 12px;\n",
              "    }\n",
              "\n",
              "    .colab-df-convert {\n",
              "      background-color: #E8F0FE;\n",
              "      border: none;\n",
              "      border-radius: 50%;\n",
              "      cursor: pointer;\n",
              "      display: none;\n",
              "      fill: #1967D2;\n",
              "      height: 32px;\n",
              "      padding: 0 0 0 0;\n",
              "      width: 32px;\n",
              "    }\n",
              "\n",
              "    .colab-df-convert:hover {\n",
              "      background-color: #E2EBFA;\n",
              "      box-shadow: 0px 1px 2px rgba(60, 64, 67, 0.3), 0px 1px 3px 1px rgba(60, 64, 67, 0.15);\n",
              "      fill: #174EA6;\n",
              "    }\n",
              "\n",
              "    [theme=dark] .colab-df-convert {\n",
              "      background-color: #3B4455;\n",
              "      fill: #D2E3FC;\n",
              "    }\n",
              "\n",
              "    [theme=dark] .colab-df-convert:hover {\n",
              "      background-color: #434B5C;\n",
              "      box-shadow: 0px 1px 3px 1px rgba(0, 0, 0, 0.15);\n",
              "      filter: drop-shadow(0px 1px 2px rgba(0, 0, 0, 0.3));\n",
              "      fill: #FFFFFF;\n",
              "    }\n",
              "  </style>\n",
              "\n",
              "      <script>\n",
              "        const buttonEl =\n",
              "          document.querySelector('#df-4a2df764-6a1d-493e-8422-c8973246cbf9 button.colab-df-convert');\n",
              "        buttonEl.style.display =\n",
              "          google.colab.kernel.accessAllowed ? 'block' : 'none';\n",
              "\n",
              "        async function convertToInteractive(key) {\n",
              "          const element = document.querySelector('#df-4a2df764-6a1d-493e-8422-c8973246cbf9');\n",
              "          const dataTable =\n",
              "            await google.colab.kernel.invokeFunction('convertToInteractive',\n",
              "                                                     [key], {});\n",
              "          if (!dataTable) return;\n",
              "\n",
              "          const docLinkHtml = 'Like what you see? Visit the ' +\n",
              "            '<a target=\"_blank\" href=https://colab.research.google.com/notebooks/data_table.ipynb>data table notebook</a>'\n",
              "            + ' to learn more about interactive tables.';\n",
              "          element.innerHTML = '';\n",
              "          dataTable['output_type'] = 'display_data';\n",
              "          await google.colab.output.renderOutput(dataTable, element);\n",
              "          const docLink = document.createElement('div');\n",
              "          docLink.innerHTML = docLinkHtml;\n",
              "          element.appendChild(docLink);\n",
              "        }\n",
              "      </script>\n",
              "    </div>\n",
              "  </div>\n",
              "  "
            ]
          },
          "metadata": {},
          "execution_count": 9
        }
      ]
    },
    {
      "cell_type": "code",
      "source": [
        "#Print y\n",
        "y"
      ],
      "metadata": {
        "execution": {
          "iopub.status.busy": "2022-10-23T20:34:47.336241Z",
          "iopub.execute_input": "2022-10-23T20:34:47.336694Z",
          "iopub.status.idle": "2022-10-23T20:34:47.345264Z",
          "shell.execute_reply.started": "2022-10-23T20:34:47.336659Z",
          "shell.execute_reply": "2022-10-23T20:34:47.343812Z"
        },
        "trusted": true,
        "colab": {
          "base_uri": "https://localhost:8080/"
        },
        "id": "Xqzkz_0TGriN",
        "outputId": "865932e7-fc9f-4dfc-85ea-d9227b7f1f8b"
      },
      "execution_count": null,
      "outputs": [
        {
          "output_type": "execute_result",
          "data": {
            "text/plain": [
              "array([1, 0, 0, ..., 0, 1, 0])"
            ]
          },
          "metadata": {},
          "execution_count": 10
        }
      ]
    },
    {
      "cell_type": "markdown",
      "source": [
        "### Split the data\n",
        "Finally, we can split our data into training and test datasets.\n",
        "Use the train_test_split function from sklearn."
      ],
      "metadata": {
        "id": "Zig-1WLXGriN"
      }
    },
    {
      "cell_type": "code",
      "source": [
        "# Split the dataset into train and test sets with 70-30 ratio\n",
        "X_train, X_test, y_train, y_test = train_test_split(X, y, test_size=0.3)"
      ],
      "metadata": {
        "execution": {
          "iopub.status.busy": "2022-10-23T20:35:33.843378Z",
          "iopub.execute_input": "2022-10-23T20:35:33.843792Z",
          "iopub.status.idle": "2022-10-23T20:35:33.852356Z",
          "shell.execute_reply.started": "2022-10-23T20:35:33.843758Z",
          "shell.execute_reply": "2022-10-23T20:35:33.851207Z"
        },
        "trusted": true,
        "id": "z-_lZNxlGriN"
      },
      "execution_count": null,
      "outputs": []
    },
    {
      "cell_type": "markdown",
      "source": [
        "## Creating and training models\n",
        "\n",
        "Our data is ready to be used! Let’s move on to training on comparing our models.\n",
        "\n",
        "We use the models we have imported already.\n",
        "\n",
        "Use the relevant class names to create models."
      ],
      "metadata": {
        "id": "5dmX4_UUGriO"
      }
    },
    {
      "cell_type": "code",
      "source": [
        "# Create an object using the LogisticRegression() class\n",
        "logistic_regression_model = LogisticRegression()\n",
        "\n",
        "# Create an object using the RidgeClassifier() class\n",
        "ridge_classifire_model = RidgeClassifier()\n",
        "\n",
        "# Create an object using the DecisionTreeClassifier() class\n",
        "decision_tree_model = DecisionTreeClassifier()\n",
        "\n",
        "# Create an object using the GaussianNB() class\n",
        "naive_bayes_model = GaussianNB()\n",
        "\n",
        "# Create an object using the MLPClassifier() class\n",
        "neural_network_model = MLPClassifier()"
      ],
      "metadata": {
        "execution": {
          "iopub.status.busy": "2022-10-23T20:36:06.989615Z",
          "iopub.execute_input": "2022-10-23T20:36:06.990039Z",
          "iopub.status.idle": "2022-10-23T20:36:06.996386Z",
          "shell.execute_reply.started": "2022-10-23T20:36:06.990005Z",
          "shell.execute_reply": "2022-10-23T20:36:06.995060Z"
        },
        "trusted": true,
        "id": "wHI6sSnyGriO"
      },
      "execution_count": null,
      "outputs": []
    },
    {
      "cell_type": "markdown",
      "source": [
        "Then, we train all models with the X_train and y_train dataset we created.\n",
        "\n",
        "Train all models using .fit() method of each object."
      ],
      "metadata": {
        "id": "OTHX_0M8GriO"
      }
    },
    {
      "cell_type": "code",
      "source": [
        "# Train the Logistic Classifier model\n",
        "logistic_regression_model.fit(X_train, y_train)\n",
        "\n",
        "# Train the Ridge Classifier model\n",
        "ridge_classifire_model.fit(X_train, y_train)\n",
        "\n",
        "# Train the Decision Tree model\n",
        "decision_tree_model.fit(X_train, y_train)\n",
        "\n",
        "# Train the Naive Bayes model\n",
        "naive_bayes_model.fit(X_train, y_train)\n",
        "\n",
        "# Train the Neural Network model\n",
        "neural_network_model.fit(X_train, y_train)"
      ],
      "metadata": {
        "execution": {
          "iopub.status.busy": "2022-10-23T20:36:33.595970Z",
          "iopub.execute_input": "2022-10-23T20:36:33.596368Z",
          "iopub.status.idle": "2022-10-23T20:36:40.410620Z",
          "shell.execute_reply.started": "2022-10-23T20:36:33.596337Z",
          "shell.execute_reply": "2022-10-23T20:36:40.409387Z"
        },
        "trusted": true,
        "colab": {
          "base_uri": "https://localhost:8080/"
        },
        "id": "ryRf4CzZGriO",
        "outputId": "049b3443-de61-4fc4-c352-1d1fad10faca"
      },
      "execution_count": null,
      "outputs": [
        {
          "output_type": "stream",
          "name": "stderr",
          "text": [
            "/usr/local/lib/python3.7/dist-packages/sklearn/neural_network/_multilayer_perceptron.py:696: ConvergenceWarning: Stochastic Optimizer: Maximum iterations (200) reached and the optimization hasn't converged yet.\n",
            "  ConvergenceWarning,\n"
          ]
        },
        {
          "output_type": "execute_result",
          "data": {
            "text/plain": [
              "MLPClassifier()"
            ]
          },
          "metadata": {},
          "execution_count": 13
        }
      ]
    },
    {
      "cell_type": "code",
      "source": [
        "from sklearn import neural_network\n",
        "# Make prediction using the test dataset on Logistic Classifier model\n",
        "logistic_pred = logistic_regression_model.predict(X_test)\n",
        "\n",
        "# Make prediction using the test dataset on Ridge Classifier model\n",
        "ridge_pred = ridge_classifire_model.predict(X_test)\n",
        "\n",
        "# Make prediction using the test dataset on Decision Tree model\n",
        "tree_pred = decision_tree_model.predict(X_test)\n",
        "\n",
        "# Make prediction using the test dataset on Naive Bayes model\n",
        "naive_bayes_pred = naive_bayes_model.predict(X_test)\n",
        "\n",
        "# Make prediction using the test dataset on Neural Network model\n",
        "neural_network_pred = neural_network_model.predict(X_test)"
      ],
      "metadata": {
        "execution": {
          "iopub.status.busy": "2022-10-23T20:37:09.746549Z",
          "iopub.execute_input": "2022-10-23T20:37:09.747089Z",
          "iopub.status.idle": "2022-10-23T20:37:09.776650Z",
          "shell.execute_reply.started": "2022-10-23T20:37:09.747040Z",
          "shell.execute_reply": "2022-10-23T20:37:09.775189Z"
        },
        "trusted": true,
        "id": "Os_bUhFyGriO"
      },
      "execution_count": null,
      "outputs": []
    },
    {
      "cell_type": "code",
      "source": [
        "# Create a Classification Report for Logistic Classifier model\n",
        "logistic_report = classification_report(y_test, logistic_pred)\n",
        "\n",
        "# Create a Classification Report for Ridge Classifier model\n",
        "ridge_report = classification_report(y_test, ridge_pred)\n",
        "\n",
        "# Create a Classification Report for Decision Tree model\n",
        "tree_report = classification_report(y_test, tree_pred)\n",
        "\n",
        "# Create a Classification Report for Naive Bayes model\n",
        "naive_bayes_report = classification_report(y_test, naive_bayes_pred)\n",
        "\n",
        "# Create a Classification Report for Neural Network model\n",
        "neural_network_report = classification_report(y_test, naive_bayes_pred)"
      ],
      "metadata": {
        "execution": {
          "iopub.status.busy": "2022-10-23T20:37:40.872122Z",
          "iopub.execute_input": "2022-10-23T20:37:40.872543Z",
          "iopub.status.idle": "2022-10-23T20:37:40.919745Z",
          "shell.execute_reply.started": "2022-10-23T20:37:40.872507Z",
          "shell.execute_reply": "2022-10-23T20:37:40.918591Z"
        },
        "trusted": true,
        "id": "td1HfPhKGriP"
      },
      "execution_count": null,
      "outputs": []
    },
    {
      "cell_type": "code",
      "source": [
        "# Print the report of the Logistic Regression model\n",
        "print(\"***** Logistic Regression *****\")\n",
        "print(logistic_report)\n",
        "\n",
        "# Print the report of the Ridge Regression model\n",
        "print(\"***** Ridge Regression *****\")\n",
        "print(ridge_report)\n",
        "\n",
        "# Print the report of the Decision Tree model\n",
        "print(\"***** Decision Tree *****\")\n",
        "print(tree_report)\n",
        "\n",
        "# Print the report of the Naive Bayes model\n",
        "print(\"***** Naive Bayes *****\")\n",
        "print(naive_bayes_report)\n",
        "\n",
        "# Print the report of the Neural Network model\n",
        "print(\"***** Neural Network *****\")\n",
        "print(neural_network_report)"
      ],
      "metadata": {
        "execution": {
          "iopub.status.busy": "2022-10-23T20:38:01.045201Z",
          "iopub.execute_input": "2022-10-23T20:38:01.045672Z",
          "iopub.status.idle": "2022-10-23T20:38:01.053601Z",
          "shell.execute_reply.started": "2022-10-23T20:38:01.045632Z",
          "shell.execute_reply": "2022-10-23T20:38:01.052349Z"
        },
        "trusted": true,
        "colab": {
          "base_uri": "https://localhost:8080/"
        },
        "id": "ynl-ClZWGriP",
        "outputId": "8c75e5f1-b1e6-4e8c-b4f9-463587106a14"
      },
      "execution_count": null,
      "outputs": [
        {
          "output_type": "stream",
          "name": "stdout",
          "text": [
            "***** Logistic Regression *****\n",
            "              precision    recall  f1-score   support\n",
            "\n",
            "           0       0.81      0.80      0.81      1265\n",
            "           1       0.79      0.80      0.79      1173\n",
            "\n",
            "    accuracy                           0.80      2438\n",
            "   macro avg       0.80      0.80      0.80      2438\n",
            "weighted avg       0.80      0.80      0.80      2438\n",
            "\n",
            "***** Ridge Regression *****\n",
            "              precision    recall  f1-score   support\n",
            "\n",
            "           0       0.81      0.80      0.81      1265\n",
            "           1       0.79      0.80      0.79      1173\n",
            "\n",
            "    accuracy                           0.80      2438\n",
            "   macro avg       0.80      0.80      0.80      2438\n",
            "weighted avg       0.80      0.80      0.80      2438\n",
            "\n",
            "***** Decision Tree *****\n",
            "              precision    recall  f1-score   support\n",
            "\n",
            "           0       0.92      0.89      0.90      1265\n",
            "           1       0.88      0.92      0.90      1173\n",
            "\n",
            "    accuracy                           0.90      2438\n",
            "   macro avg       0.90      0.90      0.90      2438\n",
            "weighted avg       0.90      0.90      0.90      2438\n",
            "\n",
            "***** Naive Bayes *****\n",
            "              precision    recall  f1-score   support\n",
            "\n",
            "           0       0.80      0.75      0.78      1265\n",
            "           1       0.75      0.80      0.77      1173\n",
            "\n",
            "    accuracy                           0.77      2438\n",
            "   macro avg       0.78      0.78      0.77      2438\n",
            "weighted avg       0.78      0.77      0.77      2438\n",
            "\n",
            "***** Neural Network *****\n",
            "              precision    recall  f1-score   support\n",
            "\n",
            "           0       0.80      0.75      0.78      1265\n",
            "           1       0.75      0.80      0.77      1173\n",
            "\n",
            "    accuracy                           0.77      2438\n",
            "   macro avg       0.78      0.78      0.77      2438\n",
            "weighted avg       0.78      0.77      0.77      2438\n",
            "\n"
          ]
        }
      ]
    },
    {
      "cell_type": "code",
      "source": [
        "# Create Random Forest Classifier object, train it and make predicitons\n",
        "random_forest_model = RandomForestClassifier()\n",
        "random_forest_model.fit(X_train, y_train)\n",
        "random_forest_pred = random_forest_model.predict(X_test)"
      ],
      "metadata": {
        "execution": {
          "iopub.status.busy": "2022-10-23T20:38:31.538137Z",
          "iopub.execute_input": "2022-10-23T20:38:31.538583Z",
          "iopub.status.idle": "2022-10-23T20:38:31.894350Z",
          "shell.execute_reply.started": "2022-10-23T20:38:31.538546Z",
          "shell.execute_reply": "2022-10-23T20:38:31.893178Z"
        },
        "trusted": true,
        "id": "lPgnL81BGriP"
      },
      "execution_count": null,
      "outputs": []
    },
    {
      "cell_type": "code",
      "source": [
        "# Create a classification Report for Random Forest model\n",
        "random_forest_report = classification_report(y_test, random_forest_pred)\n",
        "\n",
        "# Print the classification report\n",
        "print(random_forest_report)"
      ],
      "metadata": {
        "execution": {
          "iopub.status.busy": "2022-10-23T20:38:44.413752Z",
          "iopub.execute_input": "2022-10-23T20:38:44.414952Z",
          "iopub.status.idle": "2022-10-23T20:38:44.430222Z",
          "shell.execute_reply.started": "2022-10-23T20:38:44.414903Z",
          "shell.execute_reply": "2022-10-23T20:38:44.429041Z"
        },
        "trusted": true,
        "colab": {
          "base_uri": "https://localhost:8080/"
        },
        "id": "DHMhQN2tGriP",
        "outputId": "1b63a1f8-ee80-4388-f29d-a8c1c7654ad0"
      },
      "execution_count": null,
      "outputs": [
        {
          "output_type": "stream",
          "name": "stdout",
          "text": [
            "              precision    recall  f1-score   support\n",
            "\n",
            "           0       0.92      0.89      0.90      1265\n",
            "           1       0.88      0.92      0.90      1173\n",
            "\n",
            "    accuracy                           0.90      2438\n",
            "   macro avg       0.90      0.90      0.90      2438\n",
            "weighted avg       0.90      0.90      0.90      2438\n",
            "\n"
          ]
        }
      ]
    }
  ]
}